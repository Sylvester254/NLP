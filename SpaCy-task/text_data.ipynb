{
 "cells": [
  {
   "cell_type": "code",
   "execution_count": 7,
   "metadata": {},
   "outputs": [
    {
     "name": "stderr",
     "output_type": "stream",
     "text": [
      "[nltk_data] Downloading package punkt to /home/silver/nltk_data...\n",
      "[nltk_data]   Package punkt is already up-to-date!\n",
      "[nltk_data] Downloading package stopwords to /home/silver/nltk_data...\n",
      "[nltk_data]   Package stopwords is already up-to-date!\n"
     ]
    }
   ],
   "source": [
    "import requests\n",
    "import nltk\n",
    "\n",
    "nltk.download('punkt')\n",
    "nltk.download('stopwords')\n",
    "\"\"\"\n",
    "Scrap raw data.\n",
    "\"\"\"\n",
    "\n",
    "url = 'https://www.nature.com/articles/d41586-023-00629-6'\n",
    "\n",
    "r = requests.get(url)\n",
    "type(r)\n",
    "html = r.text\n",
    "# print(html)\n"
   ]
  },
  {
   "cell_type": "code",
   "execution_count": 13,
   "metadata": {},
   "outputs": [
    {
     "name": "stdout",
     "output_type": "stream",
     "text": [
      "                                    Stray puppies play inside a nevercompleted cooling tower at the Chernobyl power plant in UkraineCredit Sean GallupGetty       In the early hours of 26 April 1986 two explosions rocked the nuclear power plant near the Ukrainian city of Chernobyl then part of the Soviet Union The accident at reactor four spewed radioactive material into the air leading Soviet authorities to evacuate thousands of people from the surrounding area Homes were left behind  and in many cases pets     Why do some dogs chase squirrels Study finds genetic links to canine quirks  In the days after the accident response crews sought out abandoned and stray dogs with the goal of killing them to stop the spread of radioactivity Yet some seem to have survivedIn the first genetic study of any large mammal in the area around Chernobyl DNA collected from feral dogs living near the power plant today reveals that they are the descendants of dogs that were either present at the time of the accident or that settled in the area shortly afterwards1 The study published on 3 March in Science Advances is the first step in a larger project aimed at determining how the dogs have adapted to survive in one of the most radioactive places on Earth Researchers hope to use the knowledge gained to better understand the effects of longterm radiation exposure on human genetics and healthWe have so much to learn from these animals says Elaine Ostrander a geneticist at the US National Institutes of Health in Bethesda Maryland and coauthor of the study This is a golden opportunity to see what happens when generations of large mammals live in a hostile environmentThe aftermathThe immediate impacts of the accident at Chernobyl were obvious around 30 people who worked at the power plant and fire fighters who attended after the disaster died of radiation poisoning within a few months of the catastrophe according to the World Health Organization And in the surrounding areas pine trees withered and many insect species vanished unable to survive in the radioactive soilWhat is less clear is how low levels of lingering radioactive material from the disaster affect the plants and animals around Chernobyl today A handful of studies have reported unusually high genetic mutation rates in barn swallows2 and fruit flies3 in the vicinity of the reactor which is now entombed in a steel and concrete sarcophagus               Hundreds of feral dogs live at the Chernobyl power plant and in the surrounding areaCredit Clean Futures Fund      However the health effects of lowlevels of radiation are still hotly debated This matters because people risk exposure to low doses of radiation in all sorts of contexts including through certain medical scans or while working at nuclear power plants says David Brenner a radiation biophysicist at Columbia University in New York City who was not involved in the research Its really difficult to figure out the effects of this type of exposure he adds but pretty important that we do soThis was a motivating factor for coauthor Timothy Mousseau an evolutionary ecologist at the University of South Carolina in Columbia In 2017 Mousseau joined a volunteer mission to provide veterinary care to the hundreds of stray dogs living in the exclusion zone a 2600squarekilometre area around the power plant to which Ukrainian officials restrict access for safety reasonsOver the course of three years of trips to the area Mousseau and his colleagues collected blood samples from around 300 dogs living at the power plant and around the mostly deserted city of Chernobyl after volunteers had sedated the animals with tranquilizer dartsDNA analysis of the canines revealed that they were not newcomers to the area By comparing the dogs genetic profiles to those of other freeroaming dogs in Eastern Europe the team found that the canines in the vicinity of the power plant  some of which are related to shepherd breeds  have been isolated from other dog populations for decades And the researchers learnt that despite Soviet concerns during the 1980s that the dogs would migrate and spread radioactive material most of these animals hadnt moved far those living closest to the power plant are genetically distinct from their kin living just a few kilometres awayA radioactive legacyThe dogs continued presence in the area shows that they were able to survive and breed even while living near the reactor which is remarkable says Ostrander The 1986 accident deposited the deadly radioactive isotope cesium137 at levels 10 to 400 times higher near the power plant than in the city of Chernobyl just 15 kilometres away     Massive study of pet dogs shows breed does not predict behaviour  The canine DNA samples are incredibly valuable because dogs tend to share many of the same spaces and diets as humans Ostrander says Weve never had an opportunity to do this work in an animal that reflects us as well as dogsBut teasing out which genetic changes in the dogs are caused by radiation and which are caused by other factors  such as inbreeding or nonradioactive pollutants  wont be easy Brenner cautions The team acknowledges these challenges but the researchers argue that their detailed knowledge of these dogs ancestry as well as knowledge of the levels of radiation different dogs were historically exposed to provides an ideal focus group for our future studiesIn the meantime Mousseau is planning another sampling trip in June The ongoing war in Ukraine hasnt stopped the groups research But with fewer tourists visiting and leaving food scraps Chernobyls dogs are struggling to get by So the team is working with a nongovernmental organization to provide food to the strays safeguarding the survival of Chernobyls dogs  and their radioactive legacy  in the lean times ahead                 \n"
     ]
    }
   ],
   "source": [
    "import re\n",
    "from bs4 import BeautifulSoup\n",
    "\n",
    "# Create a BeautifulSoup object from the HTML\n",
    "soup = BeautifulSoup(html, \"html5lib\")\n",
    "type(soup)\n",
    "soup.title\n",
    "soup.title.string\n",
    "\n",
    "main_html = soup.find(\"div\", {\"class\": \"c-article-body main-content\"})\n",
    "\n",
    "# Get the text out of the soup\n",
    "text = main_html.get_text()\n",
    "# print(text)\n",
    "\n",
    "# Remove punctuation and newlines\n",
    "text = re.sub(r'[^\\w\\s]', '', text)\n",
    "text = re.sub(r'\\n', ' ', text)\n",
    "print(text)\n",
    "\n"
   ]
  },
  {
   "cell_type": "code",
   "execution_count": 19,
   "metadata": {},
   "outputs": [
    {
     "name": "stdout",
     "output_type": "stream",
     "text": [
      "Tokens: ['                                    ', 'Stray', 'puppies', 'play', 'inside', 'a', 'nevercompleted', 'cooling', 'tower', 'at', 'the', 'Chernobyl', 'power', 'plant', 'in', 'UkraineCredit', 'Sean', 'GallupGetty', '      ', 'In', 'the', 'early', 'hours', 'of', '26', 'April', '1986', 'two', 'explosions', 'rocked', 'the', 'nuclear', 'power', 'plant', 'near', 'the', 'Ukrainian', 'city', 'of', 'Chernobyl', 'then', 'part', 'of', 'the', 'Soviet', 'Union']\n",
      "POS tags: ['SPACE', 'PROPN', 'NOUN', 'VERB', 'ADP', 'DET', 'VERB', 'VERB', 'NOUN', 'ADP', 'DET', 'PROPN', 'NOUN', 'NOUN', 'ADP', 'PROPN', 'PROPN', 'PROPN', 'SPACE', 'ADP', 'DET', 'ADJ', 'NOUN', 'ADP', 'NUM', 'PROPN', 'NUM', 'NUM', 'NOUN', 'VERB', 'DET', 'ADJ', 'NOUN', 'NOUN', 'ADP', 'DET', 'ADJ', 'NOUN', 'ADP', 'PROPN', 'ADV', 'NOUN', 'ADP', 'DET', 'PROPN', 'PROPN']\n",
      "Lemmas: ['                                    ', 'Stray', 'puppy', 'play', 'inside', 'a', 'nevercomplete', 'cool', 'tower', 'at', 'the', 'Chernobyl', 'power', 'plant', 'in', 'UkraineCredit', 'Sean', 'GallupGetty', '      ', 'in', 'the', 'early', 'hour', 'of', '26', 'April', '1986', 'two', 'explosion', 'rock', 'the', 'nuclear', 'power', 'plant', 'near', 'the', 'ukrainian', 'city', 'of', 'Chernobyl', 'then', 'part', 'of', 'the', 'Soviet', 'Union'] \n",
      "\n",
      "Tokens: ['The', 'accident', 'at', 'reactor', 'four', 'spewed', 'radioactive', 'material', 'into', 'the', 'air', 'leading', 'Soviet', 'authorities', 'to', 'evacuate', 'thousands', 'of', 'people', 'from', 'the', 'surrounding', 'area']\n",
      "POS tags: ['DET', 'NOUN', 'ADP', 'NOUN', 'NUM', 'VERB', 'ADJ', 'NOUN', 'ADP', 'DET', 'NOUN', 'VERB', 'ADJ', 'NOUN', 'PART', 'VERB', 'NOUN', 'ADP', 'NOUN', 'ADP', 'DET', 'VERB', 'NOUN']\n",
      "Lemmas: ['the', 'accident', 'at', 'reactor', 'four', 'spew', 'radioactive', 'material', 'into', 'the', 'air', 'lead', 'soviet', 'authority', 'to', 'evacuate', 'thousand', 'of', 'people', 'from', 'the', 'surround', 'area'] \n",
      "\n",
      "Tokens: ['Homes', 'were', 'left', 'behind', ' ', 'and', 'in', 'many', 'cases', 'pets', '    ', 'Why', 'do', 'some', 'dogs', 'chase', 'squirrels', 'Study', 'finds', 'genetic', 'links', 'to', 'canine', 'quirks', ' ', 'In', 'the', 'days', 'after', 'the', 'accident', 'response', 'crews', 'sought', 'out', 'abandoned', 'and', 'stray', 'dogs', 'with', 'the', 'goal', 'of', 'killing', 'them', 'to', 'stop', 'the', 'spread', 'of', 'radioactivity', 'Yet', 'some', 'seem', 'to', 'have', 'survivedIn', 'the', 'first', 'genetic', 'study', 'of', 'any', 'large', 'mammal', 'in', 'the', 'area', 'around', 'Chernobyl', 'DNA', 'collected', 'from', 'feral', 'dogs', 'living', 'near', 'the', 'power', 'plant', 'today', 'reveals', 'that', 'they', 'are', 'the', 'descendants', 'of', 'dogs', 'that', 'were', 'either', 'present', 'at', 'the', 'time', 'of', 'the', 'accident', 'or', 'that', 'settled', 'in', 'the', 'area', 'shortly', 'afterwards1']\n",
      "POS tags: ['NOUN', 'AUX', 'VERB', 'ADV', 'SPACE', 'CCONJ', 'ADP', 'ADJ', 'NOUN', 'VERB', 'SPACE', 'SCONJ', 'AUX', 'DET', 'NOUN', 'NOUN', 'VERB', 'PROPN', 'VERB', 'ADJ', 'NOUN', 'PART', 'VERB', 'NOUN', 'SPACE', 'ADP', 'DET', 'NOUN', 'SCONJ', 'DET', 'NOUN', 'NOUN', 'NOUN', 'VERB', 'ADP', 'VERB', 'CCONJ', 'VERB', 'NOUN', 'ADP', 'DET', 'NOUN', 'ADP', 'VERB', 'PRON', 'PART', 'VERB', 'DET', 'NOUN', 'ADP', 'NOUN', 'CCONJ', 'PRON', 'VERB', 'PART', 'VERB', 'PROPN', 'DET', 'ADJ', 'ADJ', 'NOUN', 'ADP', 'DET', 'ADJ', 'NOUN', 'ADP', 'DET', 'NOUN', 'ADP', 'PROPN', 'PROPN', 'VERB', 'ADP', 'ADJ', 'NOUN', 'VERB', 'ADP', 'DET', 'NOUN', 'NOUN', 'NOUN', 'VERB', 'SCONJ', 'PRON', 'AUX', 'DET', 'NOUN', 'ADP', 'NOUN', 'PRON', 'AUX', 'CCONJ', 'ADJ', 'ADP', 'DET', 'NOUN', 'ADP', 'DET', 'NOUN', 'CCONJ', 'PRON', 'VERB', 'ADP', 'DET', 'NOUN', 'ADV', 'ADJ']\n",
      "Lemmas: ['home', 'be', 'leave', 'behind', ' ', 'and', 'in', 'many', 'case', 'pet', '    ', 'why', 'do', 'some', 'dog', 'chase', 'squirrel', 'Study', 'find', 'genetic', 'link', 'to', 'canine', 'quirk', ' ', 'in', 'the', 'day', 'after', 'the', 'accident', 'response', 'crew', 'seek', 'out', 'abandon', 'and', 'stray', 'dog', 'with', 'the', 'goal', 'of', 'kill', 'they', 'to', 'stop', 'the', 'spread', 'of', 'radioactivity', 'yet', 'some', 'seem', 'to', 'have', 'survivedIn', 'the', 'first', 'genetic', 'study', 'of', 'any', 'large', 'mammal', 'in', 'the', 'area', 'around', 'Chernobyl', 'DNA', 'collect', 'from', 'feral', 'dog', 'live', 'near', 'the', 'power', 'plant', 'today', 'reveal', 'that', 'they', 'be', 'the', 'descendant', 'of', 'dog', 'that', 'be', 'either', 'present', 'at', 'the', 'time', 'of', 'the', 'accident', 'or', 'that', 'settle', 'in', 'the', 'area', 'shortly', 'afterwards1'] \n",
      "\n",
      "Tokens: ['The', 'study', 'published', 'on', '3', 'March', 'in', 'Science', 'Advances', 'is', 'the', 'first', 'step', 'in', 'a', 'larger', 'project', 'aimed', 'at', 'determining', 'how', 'the', 'dogs', 'have', 'adapted', 'to', 'survive', 'in', 'one', 'of', 'the', 'most', 'radioactive', 'places', 'on', 'Earth', 'Researchers', 'hope', 'to', 'use', 'the', 'knowledge', 'gained', 'to', 'better', 'understand', 'the', 'effects', 'of', 'longterm', 'radiation', 'exposure', 'on', 'human', 'genetics', 'and', 'healthWe', 'have', 'so', 'much', 'to', 'learn', 'from', 'these', 'animals', 'says', 'Elaine', 'Ostrander', 'a', 'geneticist', 'at', 'the', 'US', 'National', 'Institutes', 'of', 'Health', 'in', 'Bethesda', 'Maryland', 'and', 'coauthor', 'of', 'the', 'study', 'This', 'is', 'a', 'golden', 'opportunity', 'to', 'see', 'what', 'happens', 'when', 'generations', 'of', 'large', 'mammals', 'live', 'in', 'a', 'hostile', 'environmentThe', 'aftermathThe', 'immediate', 'impacts', 'of', 'the', 'accident', 'at', 'Chernobyl', 'were', 'obvious', 'around', '30', 'people', 'who', 'worked', 'at', 'the', 'power', 'plant', 'and', 'fire', 'fighters', 'who', 'attended', 'after', 'the', 'disaster', 'died', 'of', 'radiation', 'poisoning', 'within', 'a', 'few', 'months', 'of', 'the', 'catastrophe', 'according', 'to', 'the', 'World', 'Health', 'Organization', 'And', 'in', 'the', 'surrounding', 'areas', 'pine', 'trees', 'withered', 'and', 'many', 'insect', 'species', 'vanished', 'unable', 'to', 'survive', 'in', 'the', 'radioactive', 'soilWhat', 'is', 'less', 'clear', 'is', 'how', 'low', 'levels', 'of', 'lingering', 'radioactive', 'material', 'from', 'the', 'disaster', 'affect', 'the', 'plants', 'and', 'animals', 'around', 'Chernobyl', 'today', 'A', 'handful', 'of', 'studies', 'have', 'reported', 'unusually', 'high', 'genetic', 'mutation', 'rates', 'in', 'barn', 'swallows2', 'and', 'fruit', 'flies3', 'in', 'the', 'vicinity', 'of', 'the', 'reactor', 'which', 'is', 'now', 'entombed', 'in', 'a', 'steel', 'and', 'concrete', 'sarcophagus', '              ', 'Hundreds', 'of', 'feral', 'dogs', 'live', 'at', 'the', 'Chernobyl', 'power', 'plant', 'and', 'in', 'the', 'surrounding', 'areaCredit', 'Clean', 'Futures', 'Fund', '     ']\n",
      "POS tags: ['DET', 'NOUN', 'VERB', 'ADP', 'NUM', 'PROPN', 'ADP', 'PROPN', 'PROPN', 'AUX', 'DET', 'ADJ', 'NOUN', 'ADP', 'DET', 'ADJ', 'NOUN', 'VERB', 'ADP', 'VERB', 'SCONJ', 'DET', 'NOUN', 'AUX', 'VERB', 'PART', 'VERB', 'ADP', 'NUM', 'ADP', 'DET', 'ADV', 'ADJ', 'NOUN', 'ADP', 'PROPN', 'PROPN', 'VERB', 'PART', 'VERB', 'DET', 'NOUN', 'VERB', 'PART', 'ADV', 'VERB', 'DET', 'NOUN', 'ADP', 'NOUN', 'NOUN', 'NOUN', 'ADP', 'ADJ', 'NOUN', 'CCONJ', 'PROPN', 'VERB', 'ADV', 'ADJ', 'PART', 'VERB', 'ADP', 'DET', 'NOUN', 'VERB', 'PROPN', 'PROPN', 'DET', 'NOUN', 'ADP', 'DET', 'PROPN', 'PROPN', 'PROPN', 'ADP', 'PROPN', 'ADP', 'PROPN', 'PROPN', 'CCONJ', 'NOUN', 'ADP', 'DET', 'NOUN', 'PRON', 'AUX', 'DET', 'ADJ', 'NOUN', 'PART', 'VERB', 'PRON', 'VERB', 'SCONJ', 'NOUN', 'ADP', 'ADJ', 'NOUN', 'VERB', 'ADP', 'DET', 'ADJ', 'NUM', 'NUM', 'ADJ', 'NOUN', 'ADP', 'DET', 'NOUN', 'ADP', 'PROPN', 'AUX', 'ADJ', 'ADP', 'NUM', 'NOUN', 'PRON', 'VERB', 'ADP', 'DET', 'NOUN', 'NOUN', 'CCONJ', 'NOUN', 'NOUN', 'PRON', 'VERB', 'SCONJ', 'DET', 'NOUN', 'VERB', 'ADP', 'NOUN', 'NOUN', 'ADP', 'DET', 'ADJ', 'NOUN', 'ADP', 'DET', 'NOUN', 'VERB', 'ADP', 'DET', 'PROPN', 'PROPN', 'PROPN', 'CCONJ', 'ADP', 'DET', 'VERB', 'NOUN', 'VERB', 'NOUN', 'VERB', 'CCONJ', 'ADJ', 'NOUN', 'NOUN', 'VERB', 'ADJ', 'PART', 'VERB', 'ADP', 'DET', 'ADJ', 'NOUN', 'AUX', 'ADV', 'ADJ', 'AUX', 'SCONJ', 'ADJ', 'NOUN', 'ADP', 'VERB', 'ADJ', 'NOUN', 'ADP', 'DET', 'NOUN', 'VERB', 'DET', 'NOUN', 'CCONJ', 'NOUN', 'ADP', 'PROPN', 'NOUN', 'DET', 'NOUN', 'ADP', 'NOUN', 'AUX', 'VERB', 'ADV', 'ADJ', 'ADJ', 'NOUN', 'NOUN', 'ADP', 'PROPN', 'NOUN', 'CCONJ', 'NOUN', 'NOUN', 'ADP', 'DET', 'NOUN', 'ADP', 'DET', 'NOUN', 'PRON', 'AUX', 'ADV', 'VERB', 'ADP', 'DET', 'NOUN', 'CCONJ', 'ADJ', 'ADJ', 'SPACE', 'NOUN', 'ADP', 'ADJ', 'NOUN', 'VERB', 'ADP', 'DET', 'PROPN', 'NOUN', 'NOUN', 'CCONJ', 'ADP', 'DET', 'VERB', 'NOUN', 'PROPN', 'PROPN', 'PROPN', 'SPACE']\n",
      "Lemmas: ['the', 'study', 'publish', 'on', '3', 'March', 'in', 'Science', 'Advances', 'be', 'the', 'first', 'step', 'in', 'a', 'large', 'project', 'aim', 'at', 'determine', 'how', 'the', 'dog', 'have', 'adapt', 'to', 'survive', 'in', 'one', 'of', 'the', 'most', 'radioactive', 'place', 'on', 'Earth', 'Researchers', 'hope', 'to', 'use', 'the', 'knowledge', 'gain', 'to', 'well', 'understand', 'the', 'effect', 'of', 'longterm', 'radiation', 'exposure', 'on', 'human', 'genetic', 'and', 'healthWe', 'have', 'so', 'much', 'to', 'learn', 'from', 'these', 'animal', 'say', 'Elaine', 'Ostrander', 'a', 'geneticist', 'at', 'the', 'US', 'National', 'Institutes', 'of', 'Health', 'in', 'Bethesda', 'Maryland', 'and', 'coauthor', 'of', 'the', 'study', 'this', 'be', 'a', 'golden', 'opportunity', 'to', 'see', 'what', 'happen', 'when', 'generation', 'of', 'large', 'mammal', 'live', 'in', 'a', 'hostile', 'environmentthe', 'aftermaththe', 'immediate', 'impact', 'of', 'the', 'accident', 'at', 'Chernobyl', 'be', 'obvious', 'around', '30', 'people', 'who', 'work', 'at', 'the', 'power', 'plant', 'and', 'fire', 'fighter', 'who', 'attend', 'after', 'the', 'disaster', 'die', 'of', 'radiation', 'poisoning', 'within', 'a', 'few', 'month', 'of', 'the', 'catastrophe', 'accord', 'to', 'the', 'World', 'Health', 'Organization', 'and', 'in', 'the', 'surround', 'area', 'pine', 'tree', 'wither', 'and', 'many', 'insect', 'specie', 'vanish', 'unable', 'to', 'survive', 'in', 'the', 'radioactive', 'soilwhat', 'be', 'less', 'clear', 'be', 'how', 'low', 'level', 'of', 'linger', 'radioactive', 'material', 'from', 'the', 'disaster', 'affect', 'the', 'plant', 'and', 'animal', 'around', 'Chernobyl', 'today', 'a', 'handful', 'of', 'study', 'have', 'report', 'unusually', 'high', 'genetic', 'mutation', 'rate', 'in', 'barn', 'swallows2', 'and', 'fruit', 'flies3', 'in', 'the', 'vicinity', 'of', 'the', 'reactor', 'which', 'be', 'now', 'entomb', 'in', 'a', 'steel', 'and', 'concrete', 'sarcophagus', '              ', 'hundred', 'of', 'feral', 'dog', 'live', 'at', 'the', 'Chernobyl', 'power', 'plant', 'and', 'in', 'the', 'surround', 'areacredit', 'Clean', 'Futures', 'Fund', '     '] \n",
      "\n",
      "Tokens: ['However', 'the', 'health', 'effects', 'of', 'lowlevels', 'of', 'radiation', 'are', 'still', 'hotly', 'debated', 'This', 'matters', 'because', 'people', 'risk', 'exposure', 'to', 'low', 'doses', 'of', 'radiation', 'in', 'all', 'sorts', 'of', 'contexts', 'including', 'through', 'certain', 'medical', 'scans', 'or', 'while', 'working', 'at', 'nuclear', 'power', 'plants', 'says', 'David', 'Brenner', 'a', 'radiation', 'biophysicist', 'at', 'Columbia', 'University', 'in', 'New', 'York', 'City', 'who', 'was', 'not', 'involved', 'in', 'the', 'research', 'Its', 'really', 'difficult', 'to', 'figure', 'out', 'the', 'effects', 'of', 'this', 'type', 'of', 'exposure', 'he', 'adds', 'but', 'pretty', 'important', 'that', 'we', 'do', 'soThis', 'was', 'a', 'motivating', 'factor', 'for', 'coauthor', 'Timothy', 'Mousseau', 'an', 'evolutionary', 'ecologist', 'at', 'the', 'University', 'of', 'South', 'Carolina', 'in', 'Columbia', 'In', '2017', 'Mousseau', 'joined', 'a', 'volunteer', 'mission', 'to', 'provide', 'veterinary', 'care', 'to', 'the', 'hundreds', 'of', 'stray', 'dogs', 'living', 'in', 'the', 'exclusion', 'zone', 'a', '2600squarekilometre', 'area', 'around', 'the', 'power', 'plant', 'to', 'which', 'Ukrainian', 'officials', 'restrict', 'access', 'for', 'safety', 'reasonsOver', 'the', 'course', 'of', 'three', 'years', 'of', 'trips', 'to', 'the', 'area', 'Mousseau', 'and', 'his', 'colleagues', 'collected', 'blood', 'samples', 'from', 'around', '300', 'dogs', 'living', 'at', 'the', 'power', 'plant', 'and', 'around', 'the', 'mostly', 'deserted', 'city', 'of', 'Chernobyl', 'after', 'volunteers', 'had', 'sedated', 'the', 'animals', 'with', 'tranquilizer', 'dartsDNA', 'analysis', 'of', 'the', 'canines', 'revealed', 'that', 'they', 'were', 'not', 'newcomers', 'to', 'the', 'area', 'By', 'comparing', 'the', 'dogs', 'genetic', 'profiles', 'to', 'those', 'of', 'other', 'freeroaming', 'dogs', 'in', 'Eastern', 'Europe', 'the', 'team', 'found', 'that', 'the', 'canines', 'in', 'the', 'vicinity', 'of', 'the', 'power', 'plant', ' ', 'some', 'of', 'which', 'are', 'related', 'to', 'shepherd', 'breeds', ' ', 'have', 'been', 'isolated', 'from', 'other', 'dog', 'populations', 'for', 'decades', 'And', 'the', 'researchers', 'learnt', 'that', 'despite', 'Soviet', 'concerns', 'during', 'the', '1980s', 'that', 'the', 'dogs', 'would', 'migrate', 'and', 'spread', 'radioactive', 'material', 'most', 'of', 'these', 'animals', 'had', 'nt', 'moved', 'far', 'those', 'living', 'closest', 'to', 'the', 'power', 'plant', 'are', 'genetically', 'distinct', 'from', 'their', 'kin', 'living', 'just', 'a', 'few', 'kilometres']\n",
      "POS tags: ['ADV', 'DET', 'NOUN', 'NOUN', 'ADP', 'NOUN', 'ADP', 'NOUN', 'AUX', 'ADV', 'ADV', 'VERB', 'DET', 'NOUN', 'SCONJ', 'NOUN', 'VERB', 'NOUN', 'ADP', 'ADJ', 'NOUN', 'ADP', 'NOUN', 'ADP', 'DET', 'NOUN', 'ADP', 'NOUN', 'VERB', 'ADP', 'ADJ', 'ADJ', 'NOUN', 'CCONJ', 'SCONJ', 'VERB', 'ADP', 'ADJ', 'NOUN', 'NOUN', 'VERB', 'PROPN', 'PROPN', 'DET', 'NOUN', 'NOUN', 'ADP', 'PROPN', 'PROPN', 'ADP', 'PROPN', 'PROPN', 'PROPN', 'PRON', 'AUX', 'PART', 'VERB', 'ADP', 'DET', 'NOUN', 'PRON', 'ADV', 'ADJ', 'PART', 'VERB', 'ADP', 'DET', 'NOUN', 'ADP', 'DET', 'NOUN', 'ADP', 'NOUN', 'PRON', 'VERB', 'CCONJ', 'ADV', 'ADJ', 'SCONJ', 'PRON', 'VERB', 'PRON', 'AUX', 'DET', 'VERB', 'NOUN', 'ADP', 'NOUN', 'PROPN', 'PROPN', 'DET', 'ADJ', 'NOUN', 'ADP', 'DET', 'PROPN', 'ADP', 'PROPN', 'PROPN', 'ADP', 'PROPN', 'ADP', 'NUM', 'PROPN', 'VERB', 'DET', 'NOUN', 'NOUN', 'PART', 'VERB', 'ADJ', 'NOUN', 'ADP', 'DET', 'NOUN', 'ADP', 'ADJ', 'NOUN', 'VERB', 'ADP', 'DET', 'NOUN', 'NOUN', 'DET', 'NOUN', 'NOUN', 'ADP', 'DET', 'NOUN', 'NOUN', 'PART', 'PRON', 'ADJ', 'NOUN', 'VERB', 'NOUN', 'ADP', 'NOUN', 'PUNCT', 'DET', 'NOUN', 'ADP', 'NUM', 'NOUN', 'ADP', 'NOUN', 'ADP', 'DET', 'NOUN', 'PROPN', 'CCONJ', 'PRON', 'NOUN', 'VERB', 'NOUN', 'NOUN', 'ADP', 'ADP', 'NUM', 'NOUN', 'VERB', 'ADP', 'DET', 'NOUN', 'NOUN', 'CCONJ', 'ADP', 'DET', 'ADV', 'ADJ', 'NOUN', 'ADP', 'PROPN', 'SCONJ', 'NOUN', 'AUX', 'VERB', 'DET', 'NOUN', 'ADP', 'NOUN', 'NOUN', 'NOUN', 'ADP', 'DET', 'NOUN', 'VERB', 'SCONJ', 'PRON', 'AUX', 'PART', 'NOUN', 'ADP', 'DET', 'NOUN', 'ADP', 'VERB', 'DET', 'NOUN', 'ADJ', 'NOUN', 'ADP', 'PRON', 'ADP', 'ADJ', 'VERB', 'NOUN', 'ADP', 'PROPN', 'PROPN', 'DET', 'NOUN', 'VERB', 'SCONJ', 'DET', 'NOUN', 'ADP', 'DET', 'NOUN', 'ADP', 'DET', 'NOUN', 'NOUN', 'SPACE', 'PRON', 'ADP', 'PRON', 'AUX', 'VERB', 'ADP', 'PROPN', 'NOUN', 'SPACE', 'AUX', 'AUX', 'VERB', 'ADP', 'ADJ', 'NOUN', 'NOUN', 'ADP', 'NOUN', 'CCONJ', 'DET', 'NOUN', 'VERB', 'PRON', 'SCONJ', 'ADJ', 'NOUN', 'ADP', 'DET', 'NOUN', 'PRON', 'DET', 'NOUN', 'AUX', 'VERB', 'CCONJ', 'VERB', 'ADJ', 'NOUN', 'ADJ', 'ADP', 'DET', 'NOUN', 'AUX', 'PART', 'VERB', 'ADV', 'PRON', 'VERB', 'ADJ', 'ADP', 'DET', 'NOUN', 'NOUN', 'AUX', 'ADV', 'ADJ', 'ADP', 'PRON', 'NOUN', 'VERB', 'ADV', 'DET', 'ADJ', 'NOUN']\n",
      "Lemmas: ['however', 'the', 'health', 'effect', 'of', 'lowlevel', 'of', 'radiation', 'be', 'still', 'hotly', 'debate', 'this', 'matter', 'because', 'people', 'risk', 'exposure', 'to', 'low', 'dose', 'of', 'radiation', 'in', 'all', 'sort', 'of', 'context', 'include', 'through', 'certain', 'medical', 'scan', 'or', 'while', 'work', 'at', 'nuclear', 'power', 'plant', 'say', 'David', 'Brenner', 'a', 'radiation', 'biophysicist', 'at', 'Columbia', 'University', 'in', 'New', 'York', 'City', 'who', 'be', 'not', 'involve', 'in', 'the', 'research', 'its', 'really', 'difficult', 'to', 'figure', 'out', 'the', 'effect', 'of', 'this', 'type', 'of', 'exposure', 'he', 'add', 'but', 'pretty', 'important', 'that', 'we', 'do', 'sothis', 'be', 'a', 'motivate', 'factor', 'for', 'coauthor', 'Timothy', 'Mousseau', 'an', 'evolutionary', 'ecologist', 'at', 'the', 'University', 'of', 'South', 'Carolina', 'in', 'Columbia', 'in', '2017', 'Mousseau', 'join', 'a', 'volunteer', 'mission', 'to', 'provide', 'veterinary', 'care', 'to', 'the', 'hundred', 'of', 'stray', 'dog', 'live', 'in', 'the', 'exclusion', 'zone', 'a', '2600squarekilometre', 'area', 'around', 'the', 'power', 'plant', 'to', 'which', 'ukrainian', 'official', 'restrict', 'access', 'for', 'safety', 'reasonsOver', 'the', 'course', 'of', 'three', 'year', 'of', 'trip', 'to', 'the', 'area', 'Mousseau', 'and', 'his', 'colleague', 'collect', 'blood', 'sample', 'from', 'around', '300', 'dog', 'live', 'at', 'the', 'power', 'plant', 'and', 'around', 'the', 'mostly', 'deserted', 'city', 'of', 'Chernobyl', 'after', 'volunteer', 'have', 'sedate', 'the', 'animal', 'with', 'tranquilizer', 'dartsdna', 'analysis', 'of', 'the', 'canine', 'reveal', 'that', 'they', 'be', 'not', 'newcomer', 'to', 'the', 'area', 'by', 'compare', 'the', 'dog', 'genetic', 'profile', 'to', 'those', 'of', 'other', 'freeroame', 'dog', 'in', 'Eastern', 'Europe', 'the', 'team', 'find', 'that', 'the', 'canine', 'in', 'the', 'vicinity', 'of', 'the', 'power', 'plant', ' ', 'some', 'of', 'which', 'be', 'relate', 'to', 'shepherd', 'breed', ' ', 'have', 'be', 'isolate', 'from', 'other', 'dog', 'population', 'for', 'decade', 'and', 'the', 'researcher', 'learn', 'that', 'despite', 'soviet', 'concern', 'during', 'the', '1980', 'that', 'the', 'dog', 'would', 'migrate', 'and', 'spread', 'radioactive', 'material', 'most', 'of', 'these', 'animal', 'have', 'not', 'move', 'far', 'those', 'live', 'close', 'to', 'the', 'power', 'plant', 'be', 'genetically', 'distinct', 'from', 'their', 'kin', 'live', 'just', 'a', 'few', 'kilometre'] \n",
      "\n",
      "Tokens: ['awayA', 'radioactive']\n",
      "POS tags: ['NOUN', 'ADJ']\n",
      "Lemmas: ['awaya', 'radioactive'] \n",
      "\n",
      "Tokens: ['legacyThe', 'dogs', 'continued', 'presence', 'in', 'the', 'area', 'shows', 'that', 'they', 'were', 'able', 'to', 'survive', 'and', 'breed', 'even', 'while', 'living', 'near', 'the', 'reactor', 'which', 'is', 'remarkable', 'says', 'Ostrander', 'The', '1986', 'accident', 'deposited', 'the', 'deadly', 'radioactive', 'isotope', 'cesium137', 'at', 'levels', '10', 'to', '400', 'times', 'higher', 'near', 'the', 'power', 'plant', 'than', 'in', 'the', 'city', 'of', 'Chernobyl', 'just', '15', 'kilometres', 'away', '    ', 'Massive', 'study', 'of', 'pet', 'dogs', 'shows', 'breed', 'does', 'not', 'predict', 'behaviour', ' ']\n",
      "POS tags: ['ADJ', 'NOUN', 'VERB', 'NOUN', 'ADP', 'DET', 'NOUN', 'VERB', 'SCONJ', 'PRON', 'AUX', 'ADJ', 'PART', 'VERB', 'CCONJ', 'VERB', 'ADV', 'SCONJ', 'VERB', 'ADP', 'DET', 'NOUN', 'PRON', 'AUX', 'ADJ', 'VERB', 'PROPN', 'DET', 'NUM', 'NOUN', 'VERB', 'DET', 'ADJ', 'ADJ', 'NOUN', 'NOUN', 'ADP', 'NOUN', 'NUM', 'PART', 'NUM', 'NOUN', 'ADJ', 'ADP', 'DET', 'NOUN', 'NOUN', 'ADP', 'ADP', 'DET', 'NOUN', 'ADP', 'PROPN', 'ADV', 'NUM', 'NOUN', 'ADV', 'SPACE', 'ADJ', 'NOUN', 'ADP', 'ADJ', 'NOUN', 'VERB', 'ADV', 'AUX', 'PART', 'VERB', 'NOUN', 'SPACE']\n",
      "Lemmas: ['legacythe', 'dog', 'continue', 'presence', 'in', 'the', 'area', 'show', 'that', 'they', 'be', 'able', 'to', 'survive', 'and', 'breed', 'even', 'while', 'live', 'near', 'the', 'reactor', 'which', 'be', 'remarkable', 'say', 'Ostrander', 'the', '1986', 'accident', 'deposit', 'the', 'deadly', 'radioactive', 'isotope', 'cesium137', 'at', 'level', '10', 'to', '400', 'time', 'high', 'near', 'the', 'power', 'plant', 'than', 'in', 'the', 'city', 'of', 'Chernobyl', 'just', '15', 'kilometre', 'away', '    ', 'massive', 'study', 'of', 'pet', 'dog', 'show', 'breed', 'do', 'not', 'predict', 'behaviour', ' '] \n",
      "\n",
      "Tokens: ['The', 'canine', 'DNA', 'samples', 'are', 'incredibly', 'valuable', 'because', 'dogs', 'tend', 'to', 'share', 'many', 'of', 'the', 'same', 'spaces', 'and', 'diets', 'as', 'humans', 'Ostrander', 'says', 'We', 've', 'never', 'had', 'an', 'opportunity', 'to', 'do', 'this', 'work', 'in', 'an', 'animal', 'that', 'reflects', 'us', 'as', 'well', 'as', 'dogsBut', 'teasing', 'out', 'which', 'genetic', 'changes', 'in', 'the', 'dogs', 'are', 'caused', 'by', 'radiation', 'and', 'which', 'are', 'caused', 'by', 'other', 'factors', ' ', 'such', 'as', 'inbreeding', 'or', 'nonradioactive', 'pollutants', ' ', 'wo', 'nt', 'be', 'easy', 'Brenner', 'cautions', 'The', 'team', 'acknowledges', 'these', 'challenges', 'but', 'the', 'researchers', 'argue', 'that', 'their', 'detailed', 'knowledge', 'of', 'these', 'dogs', 'ancestry', 'as', 'well', 'as', 'knowledge', 'of', 'the', 'levels', 'of', 'radiation', 'different', 'dogs', 'were', 'historically', 'exposed', 'to', 'provides', 'an', 'ideal', 'focus', 'group', 'for', 'our', 'future', 'studiesIn', 'the', 'meantime', 'Mousseau', 'is', 'planning', 'another', 'sampling', 'trip', 'in', 'June', 'The', 'ongoing', 'war', 'in', 'Ukraine', 'has', 'nt', 'stopped', 'the', 'groups', 'research']\n",
      "POS tags: ['DET', 'NOUN', 'NOUN', 'NOUN', 'AUX', 'ADV', 'ADJ', 'SCONJ', 'NOUN', 'VERB', 'PART', 'VERB', 'ADJ', 'ADP', 'DET', 'ADJ', 'NOUN', 'CCONJ', 'NOUN', 'SCONJ', 'NOUN', 'PROPN', 'VERB', 'PRON', 'AUX', 'ADV', 'VERB', 'DET', 'NOUN', 'PART', 'AUX', 'DET', 'NOUN', 'ADP', 'DET', 'NOUN', 'PRON', 'VERB', 'PRON', 'ADV', 'ADV', 'ADP', 'CCONJ', 'VERB', 'ADP', 'DET', 'ADJ', 'NOUN', 'ADP', 'DET', 'NOUN', 'AUX', 'VERB', 'ADP', 'NOUN', 'CCONJ', 'PRON', 'AUX', 'VERB', 'ADP', 'ADJ', 'NOUN', 'SPACE', 'ADJ', 'ADP', 'VERB', 'CCONJ', 'ADJ', 'NOUN', 'SPACE', 'AUX', 'PART', 'AUX', 'ADJ', 'PROPN', 'VERB', 'DET', 'NOUN', 'VERB', 'DET', 'NOUN', 'CCONJ', 'DET', 'NOUN', 'VERB', 'SCONJ', 'PRON', 'ADJ', 'NOUN', 'ADP', 'DET', 'NOUN', 'NOUN', 'ADV', 'ADV', 'ADP', 'NOUN', 'ADP', 'DET', 'NOUN', 'ADP', 'NOUN', 'ADJ', 'NOUN', 'AUX', 'ADV', 'VERB', 'PART', 'VERB', 'DET', 'ADJ', 'NOUN', 'NOUN', 'ADP', 'PRON', 'ADJ', 'PROPN', 'DET', 'NOUN', 'PROPN', 'AUX', 'VERB', 'DET', 'VERB', 'NOUN', 'ADP', 'PROPN', 'DET', 'ADJ', 'NOUN', 'ADP', 'PROPN', 'AUX', 'PART', 'VERB', 'DET', 'NOUN', 'NOUN']\n",
      "Lemmas: ['the', 'canine', 'dna', 'sample', 'be', 'incredibly', 'valuable', 'because', 'dog', 'tend', 'to', 'share', 'many', 'of', 'the', 'same', 'space', 'and', 'diet', 'as', 'human', 'Ostrander', 'say', 'we', 've', 'never', 'have', 'an', 'opportunity', 'to', 'do', 'this', 'work', 'in', 'an', 'animal', 'that', 'reflect', 'we', 'as', 'well', 'as', 'dogsbut', 'tease', 'out', 'which', 'genetic', 'change', 'in', 'the', 'dog', 'be', 'cause', 'by', 'radiation', 'and', 'which', 'be', 'cause', 'by', 'other', 'factor', ' ', 'such', 'as', 'inbreede', 'or', 'nonradioactive', 'pollutant', ' ', 'will', 'not', 'be', 'easy', 'Brenner', 'caution', 'the', 'team', 'acknowledge', 'these', 'challenge', 'but', 'the', 'researcher', 'argue', 'that', 'their', 'detailed', 'knowledge', 'of', 'these', 'dog', 'ancestry', 'as', 'well', 'as', 'knowledge', 'of', 'the', 'level', 'of', 'radiation', 'different', 'dog', 'be', 'historically', 'expose', 'to', 'provide', 'an', 'ideal', 'focus', 'group', 'for', 'our', 'future', 'studiesIn', 'the', 'meantime', 'Mousseau', 'be', 'plan', 'another', 'sample', 'trip', 'in', 'June', 'the', 'ongoing', 'war', 'in', 'Ukraine', 'have', 'not', 'stop', 'the', 'group', 'research'] \n",
      "\n",
      "Tokens: ['But', 'with', 'fewer', 'tourists', 'visiting', 'and', 'leaving', 'food', 'scraps', 'Chernobyls', 'dogs', 'are', 'struggling', 'to', 'get', 'by', 'So', 'the', 'team', 'is', 'working', 'with', 'a', 'nongovernmental', 'organization', 'to', 'provide', 'food', 'to', 'the', 'strays', 'safeguarding', 'the', 'survival', 'of', 'Chernobyls', 'dogs', ' ', 'and', 'their', 'radioactive', 'legacy', ' ', 'in', 'the', 'lean', 'times', 'ahead', '                ']\n",
      "POS tags: ['CCONJ', 'ADP', 'ADJ', 'NOUN', 'VERB', 'CCONJ', 'VERB', 'NOUN', 'NOUN', 'ADJ', 'NOUN', 'AUX', 'VERB', 'PART', 'VERB', 'ADP', 'ADV', 'DET', 'NOUN', 'AUX', 'VERB', 'ADP', 'DET', 'ADJ', 'NOUN', 'PART', 'VERB', 'NOUN', 'ADP', 'DET', 'NOUN', 'VERB', 'DET', 'NOUN', 'ADP', 'PROPN', 'NOUN', 'SPACE', 'CCONJ', 'PRON', 'ADJ', 'NOUN', 'SPACE', 'ADP', 'DET', 'ADJ', 'NOUN', 'ADV', 'SPACE']\n",
      "Lemmas: ['but', 'with', 'few', 'tourist', 'visit', 'and', 'leave', 'food', 'scrap', 'chernobyls', 'dog', 'be', 'struggle', 'to', 'get', 'by', 'so', 'the', 'team', 'be', 'work', 'with', 'a', 'nongovernmental', 'organization', 'to', 'provide', 'food', 'to', 'the', 'stray', 'safeguard', 'the', 'survival', 'of', 'Chernobyls', 'dog', ' ', 'and', 'their', 'radioactive', 'legacy', ' ', 'in', 'the', 'lean', 'time', 'ahead', '                '] \n",
      "\n"
     ]
    }
   ],
   "source": [
    "import spacy\n",
    "\"\"\"\n",
    "Sentence splitting, tokenization, POS tagging and lemmatization using spaCy\n",
    "\"\"\"\n",
    "\n",
    "\n",
    "# Load the spaCy model\n",
    "nlp = spacy.load(\"en_core_web_sm\")\n",
    "\n",
    "# Sentence splitting\n",
    "doc = nlp(text)\n",
    "sentences = list(doc.sents)\n",
    "# print(sentences)\n",
    "\n",
    "# Perform tokenization and POS tagging on each sentence\n",
    "for sent in sentences:\n",
    "    tokens = []\n",
    "    pos_tags = []\n",
    "    lemmas = []if this is a sample output of NER,: thousands CARDINAL\n",
    "Homes PERSON\n",
    "the days DATE\n",
    "first ORDINAL\n",
    "Chernobyl GPE\n",
    "today DATE\n",
    "afterwards1 PERSON                   how would i do error analysis on the ones that spacy has not gotten right. in this case it failed to identify homes and afterwards correctly\n",
    "    for token in sent:\n",
    "        tokens.append(token.text)\n",
    "        pos_tags.append(token.pos_)\n",
    "        lemmas.append(token.lemma_)\n",
    "    print(\"Tokens:\", tokens)\n",
    "    print(\"POS tags:\", pos_tags)\n",
    "    print(\"Lemmas:\", lemmas, \"\\n\")\n",
    "    "
   ]
  },
  {
   "cell_type": "code",
   "execution_count": 20,
   "metadata": {},
   "outputs": [
    {
     "name": "stdout",
     "output_type": "stream",
     "text": [
      "Chernobyl GPE\n",
      "UkraineCredit Sean GallupGetty        ORG\n",
      "the early hours TIME\n",
      "26 April 1986 DATE\n",
      "two CARDINAL\n",
      "Ukrainian NORP\n",
      "Chernobyl GPE\n",
      "the Soviet Union GPE\n",
      "four CARDINAL\n",
      "Soviet NORP\n",
      "thousands CARDINAL\n",
      "Homes PERSON\n",
      "the days DATE\n",
      "first ORDINAL\n",
      "Chernobyl GPE\n",
      "today DATE\n",
      "afterwards1 PERSON\n",
      "3 March DATE\n",
      "Science Advances ORG\n",
      "first ORDINAL\n",
      "one CARDINAL\n",
      "Earth LOC\n",
      "Elaine Ostrander PERSON\n",
      "the US National Institutes of Health ORG\n",
      "Bethesda GPE\n",
      "Maryland GPE\n",
      "Chernobyl GPE\n",
      "30 CARDINAL\n",
      "a few months DATE\n",
      "the World Health Organization ORG\n",
      "Chernobyl GPE\n",
      "today DATE\n",
      "swallows2 ORG\n",
      "flies3 ORG\n",
      "Hundreds CARDINAL\n",
      "Chernobyl GPE\n",
      "Clean Futures Fund       ORG\n",
      "David Brenner PERSON\n",
      "Columbia University ORG\n",
      "New York City GPE\n",
      "Timothy Mousseau PERSON\n",
      "the University of South Carolina ORG\n",
      "Columbia GPE\n",
      "2017 DATE\n",
      "Mousseau PERSON\n",
      "hundreds CARDINAL\n",
      "2600squarekilometre CARDINAL\n",
      "Ukrainian NORP\n",
      "three years DATE\n",
      "Mousseau PERSON\n",
      "around 300 CARDINAL\n",
      "Chernobyl GPE\n",
      "Eastern Europe LOC\n",
      "decades DATE\n",
      "Soviet NORP\n",
      "the 1980s DATE\n",
      "just a few kilometres QUANTITY\n",
      "Ostrander The ORG\n",
      "1986 DATE\n",
      "10 to 400 CARDINAL\n",
      "Chernobyl GPE\n",
      "just 15 kilometres QUANTITY\n",
      "Ostrander PERSON\n",
      "Mousseau PERSON\n",
      "June DATE\n",
      "Ukraine GPE\n",
      "Chernobyls ORG\n",
      "Chernobyls ORG\n",
      "the lean times ahead ORG\n"
     ]
    }
   ],
   "source": [
    "# NER on the text\n",
    "doc = nlp(text)\n",
    "for ent in doc.ents:\n",
    "    print(ent.text, ent.label_)"
   ]
  }
 ],
 "metadata": {
  "kernelspec": {
   "display_name": "Python 3",
   "language": "python",
   "name": "python3"
  },
  "language_info": {
   "codemirror_mode": {
    "name": "ipython",
    "version": 3
   },
   "file_extension": ".py",
   "mimetype": "text/x-python",
   "name": "python",
   "nbconvert_exporter": "python",
   "pygments_lexer": "ipython3",
   "version": "3.10.6"
  },
  "orig_nbformat": 4
 },
 "nbformat": 4,
 "nbformat_minor": 2
}
