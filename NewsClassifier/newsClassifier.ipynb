{
 "cells": [
  {
   "cell_type": "code",
   "execution_count": 7,
   "metadata": {},
   "outputs": [
    {
     "name": "stdout",
     "output_type": "stream",
     "text": [
      "Successfully saved News-Articles/sports.txt\n",
      "Successfully saved News-Articles/sports.txt\n",
      "Successfully saved News-Articles/sports.txt\n",
      "Successfully saved News-Articles/business.txt\n",
      "Successfully saved News-Articles/business.txt\n",
      "Successfully saved News-Articles/business.txt\n",
      "Successfully saved News-Articles/technology.txt\n",
      "Successfully saved News-Articles/technology.txt\n",
      "Successfully saved News-Articles/technology.txt\n"
     ]
    }
   ],
   "source": [
    "import requests\n",
    "import json\n",
    "import json\n",
    "import requests\n",
    "from bs4 import BeautifulSoup\n",
    "import os\n",
    "\n",
    "\n",
    "# create the directory if it doesn't already exist\n",
    "if not os.path.exists('News-Articles'):\n",
    "    os.makedirs('News-Articles')\n",
    "\n",
    "\n",
    "# Load URLs from JSON file\n",
    "with open('urls.json', 'r') as f:\n",
    "    urls = json.load(f)\n",
    "\n",
    "for url in urls:\n",
    "    url_string = url[\"url\"]\n",
    "    r = requests.get(url_string)\n",
    "\n",
    "    if r.status_code == 200:\n",
    "        soup = BeautifulSoup(r.content, \"html.parser\")\n",
    "        article = soup.find(\"article\")\n",
    "        # Get the text out of the soup and print it\n",
    "        content = article.get_text()\n",
    "        # print(content)\n",
    "        \n",
    "        # construct the path to the file within the News-Articles directory\n",
    "        filename = os.path.join('News-Articles', url['title'] + '.txt')\n",
    "        with open(filename, 'a') as f:\n",
    "            f.write(content)\n",
    "            f.write('\\n\\n')\n",
    "        print(f'Successfully saved {filename}')\n",
    "    else:\n",
    "        print(f\"Error: {r.status_code}\")\n"
   ]
  },
  {
   "cell_type": "code",
   "execution_count": 8,
   "metadata": {},
   "outputs": [
    {
     "name": "stdout",
     "output_type": "stream",
     "text": [
      "Successfully created news_corpus.csv\n"
     ]
    }
   ],
   "source": [
    "import csv\n",
    "\n",
    "# Directory where the .txt files are located\n",
    "directory = './News-Articles/'\n",
    "\n",
    "# Create a list to store the rows of the CSV file\n",
    "csv_rows = []\n",
    "\n",
    "# Iterate over each file in the directory\n",
    "for filename in os.listdir(directory):\n",
    "    if filename.endswith('.txt'):\n",
    "        # Read the contents of the file\n",
    "        with open(os.path.join(directory, filename), 'r') as f:\n",
    "            content = f.read().replace('\\n', ' ')\n",
    "        \n",
    "        # Get the title from the filename\n",
    "        title = filename.split('.')[0]\n",
    "        \n",
    "        # Append the title and content to the CSV row list\n",
    "        csv_rows.append([title, content])\n",
    "\n",
    "# Write the CSV file\n",
    "with open('news_corpus.csv', 'w', newline='', encoding='utf-8') as f:\n",
    "    writer = csv.writer(f)\n",
    "    writer.writerow(['Topic', 'Content'])  # write the header row\n",
    "    writer.writerows(csv_rows)  # write the content rows\n",
    "    print(\"Successfully created news_corpus.csv\")\n"
   ]
  },
  {
   "cell_type": "code",
   "execution_count": 17,
   "metadata": {},
   "outputs": [
    {
     "name": "stdout",
     "output_type": "stream",
     "text": [
      "        Topic                                            Content\n",
      "0    business  happening house price could crashpublished7 ho...\n",
      "1  technology  elon musk among expert urging halt ai training...\n",
      "2      sports  manchester united premier league club owe almo...\n"
     ]
    },
    {
     "name": "stderr",
     "output_type": "stream",
     "text": [
      "[nltk_data] Downloading package wordnet to /home/silver/nltk_data...\n",
      "[nltk_data]   Package wordnet is already up-to-date!\n"
     ]
    }
   ],
   "source": [
    "import pandas as pd\n",
    "import string\n",
    "import nltk\n",
    "from nltk.corpus import stopwords\n",
    "from nltk.tokenize import word_tokenize\n",
    "from nltk.stem import WordNetLemmatizer\n",
    "\n",
    "# Load the news corpus into a Pandas DataFrame\n",
    "df = pd.read_csv('news_corpus.csv')\n",
    "\n",
    "# Initialize NLTK components\n",
    "stop_words = set(stopwords.words('english'))\n",
    "nltk.download('wordnet')\n",
    "lemmatizer = WordNetLemmatizer()\n",
    "\n",
    "# Function to preprocess text data\n",
    "def preprocess_text(Content):\n",
    "    # Remove punctuation\n",
    "    Content = Content.translate(str.maketrans('', '', string.punctuation))\n",
    "    \n",
    "    # Tokenize the text into words\n",
    "    words = word_tokenize(Content.lower())\n",
    "\n",
    "    # Remove stop words\n",
    "    words = [w for w in words if not w in stop_words]\n",
    "\n",
    "    # Lemmatize the remaining words\n",
    "    words = [lemmatizer.lemmatize(w) for w in words]\n",
    "\n",
    "    # Rejoin the words into a single string\n",
    "    return ' '.join(words)\n",
    "\n",
    "# Apply the preprocessing function to the news corpus\n",
    "df['Content'] = df['Content'].apply(preprocess_text)\n",
    "print(df)"
   ]
  },
  {
   "cell_type": "code",
   "execution_count": null,
   "metadata": {},
   "outputs": [],
   "source": [
    "from sklearn.feature_extraction.text import TfidfVectorizer\n",
    "\n",
    "# Create a TF-IDF Vectorizer object\n",
    "vectorizer = TfidfVectorizer()\n",
    "\n",
    "# Vectorize the text data\n",
    "X = vectorizer.fit_transform(df['Content'])\n",
    "\n",
    "# Get the labels\n",
    "y = df['Topic']\n"
   ]
  }
 ],
 "metadata": {
  "kernelspec": {
   "display_name": "Python 3",
   "language": "python",
   "name": "python3"
  },
  "language_info": {
   "codemirror_mode": {
    "name": "ipython",
    "version": 3
   },
   "file_extension": ".py",
   "mimetype": "text/x-python",
   "name": "python",
   "nbconvert_exporter": "python",
   "pygments_lexer": "ipython3",
   "version": "3.10.6"
  },
  "orig_nbformat": 4
 },
 "nbformat": 4,
 "nbformat_minor": 2
}
