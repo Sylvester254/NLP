{
 "cells": [
  {
   "cell_type": "code",
   "execution_count": 5,
   "metadata": {},
   "outputs": [],
   "source": [
    "import os\n",
    "import pandas as pd\n",
    "\n",
    "# Define the paths to the train and test directories\n",
    "train_dir = \"../IMDb_reviews/test\"\n",
    "test_dir = \"../IMDb_reviews/test\"\n",
    "\n",
    "# Define the columns of the dataframe\n",
    "columns = [\"Sentiment\", \"Label\"]\n",
    "\n",
    "# Load the train set into a dataframe\n",
    "train_data = []\n",
    "for label in [\"pos\", \"neg\"]:\n",
    "    for filename in os.listdir(os.path.join(train_dir, label)):\n",
    "        with open(os.path.join(train_dir, label, filename), \"r\") as f:\n",
    "            text = f.read()\n",
    "            train_data.append([text, label])\n",
    "train_df = pd.DataFrame(train_data, columns=columns)\n",
    "\n",
    "# Load the test set into a dataframe\n",
    "test_data = []\n",
    "for label in [\"pos\", \"neg\"]:\n",
    "    for filename in os.listdir(os.path.join(test_dir, label)):\n",
    "        with open(os.path.join(test_dir, label, filename), \"r\") as f:\n",
    "            text = f.read()\n",
    "            test_data.append([text, label])\n",
    "test_df = pd.DataFrame(test_data, columns=columns)\n",
    "\n",
    "# Save the dataframes to CSV files\n",
    "train_df.to_csv(\"train.csv\", index=False)\n",
    "test_df.to_csv(\"test.csv\", index=False)\n"
   ]
  }
 ],
 "metadata": {
  "kernelspec": {
   "display_name": "Python 3",
   "language": "python",
   "name": "python3"
  },
  "language_info": {
   "codemirror_mode": {
    "name": "ipython",
    "version": 3
   },
   "file_extension": ".py",
   "mimetype": "text/x-python",
   "name": "python",
   "nbconvert_exporter": "python",
   "pygments_lexer": "ipython3",
   "version": "3.10.6"
  },
  "orig_nbformat": 4
 },
 "nbformat": 4,
 "nbformat_minor": 2
}
